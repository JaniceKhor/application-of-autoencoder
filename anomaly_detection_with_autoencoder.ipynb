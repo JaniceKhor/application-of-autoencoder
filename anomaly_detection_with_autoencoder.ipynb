{
 "cells": [
  {
   "cell_type": "markdown",
   "metadata": {},
   "source": [
    "## Background\n",
    "\n",
    "### 1. Brief explanation on the architechtures of autoencoder\n",
    "\n",
    "<img src=\"image/autoencoder.png\" width=\"50%\">\n",
    "\n",
    "#### 1.1. Encoder\n",
    "The encoder is a set of neural networks that compress the input data into a compact section called the bottleneck.\n",
    "\n",
    "#### 1.2 Bottleneck\n",
    "The bottleneck is the core of the neurak networks where it is the compressed knowledge-representation of the input.\n",
    "\n",
    "#### 1.3. Decoder\n",
    "The decoder is used to upsample and reconstructs the output of bottleneck.\n",
    "\n",
    "### 2. Key hyper-parameters in training an autoencoder\n",
    "\n",
    "#### 2.1. Code Size\n",
    "\n",
    "- The code size determines the size of the bottleneck.\n",
    "- It is used as the input size of the last layer in encoder.\n",
    "\n",
    "#### 2.2. Loss Function\n",
    "\n",
    "- The loss function is highly dependent on the data type.\n",
    "- For example, MSE and L1 Loss are popular when the input and output are images.\n",
    "- Binary cross entroppy loss can be used when the inputs and outputs are within the range [0,1]\n",
    "\n",
    "#### 2.3. Number of Layers and  Number of Nodes per Layer\n",
    "\n",
    "- Similar to other nueral networks, these are the important hyper-parameters that could affect the performance of autoencoder greatly.\n",
    "\n",
    "### 3. Main advantage of autoencoder\n",
    "\n",
    "Autoencoder is an unsupervised neural networks where it does not need labels for training. From the experiment below, the performance of autoencoder is comparable to LGBM model although autoencoder is being trained without the train labels. Hence, it serves as a very good alternatives if we do not have labels on hand."
   ]
  },
  {
   "cell_type": "code",
   "execution_count": 31,
   "metadata": {
    "id": "E8J3OANDtwbg"
   },
   "outputs": [],
   "source": [
    "import numpy as np\n",
    "import pandas as pd\n",
    "import matplotlib.pyplot as plt\n",
    "import seaborn as sns\n",
    "\n",
    "from sklearn.model_selection import train_test_split\n",
    "from sklearn.pipeline import make_pipeline\n",
    "from sklearn.model_selection import KFold, cross_val_score\n",
    "from sklearn.preprocessing import MinMaxScaler\n",
    "from sklearn.metrics import f1_score, confusion_matrix\n",
    "\n",
    "import lightgbm as lgb\n",
    "\n",
    "from tensorflow.keras.optimizers import Adam\n",
    "from tensorflow.keras import Model, Sequential\n",
    "from tensorflow.keras.layers import Dense, Dropout\n",
    "from tensorflow.keras.losses import MeanSquaredLogarithmicError"
   ]
  },
  {
   "cell_type": "code",
   "execution_count": 2,
   "metadata": {
    "colab": {
     "base_uri": "https://localhost:8080/",
     "height": 256
    },
    "id": "2hzjqgKRuAm4",
    "outputId": "1d33ab95-cc35-4f50-a835-c557d00af932"
   },
   "outputs": [
    {
     "data": {
      "text/html": [
       "<div>\n",
       "<style scoped>\n",
       "    .dataframe tbody tr th:only-of-type {\n",
       "        vertical-align: middle;\n",
       "    }\n",
       "\n",
       "    .dataframe tbody tr th {\n",
       "        vertical-align: top;\n",
       "    }\n",
       "\n",
       "    .dataframe thead th {\n",
       "        text-align: right;\n",
       "    }\n",
       "</style>\n",
       "<table border=\"1\" class=\"dataframe\">\n",
       "  <thead>\n",
       "    <tr style=\"text-align: right;\">\n",
       "      <th></th>\n",
       "      <th>0</th>\n",
       "      <th>1</th>\n",
       "      <th>2</th>\n",
       "      <th>3</th>\n",
       "      <th>4</th>\n",
       "      <th>5</th>\n",
       "      <th>6</th>\n",
       "      <th>7</th>\n",
       "      <th>8</th>\n",
       "      <th>9</th>\n",
       "      <th>...</th>\n",
       "      <th>131</th>\n",
       "      <th>132</th>\n",
       "      <th>133</th>\n",
       "      <th>134</th>\n",
       "      <th>135</th>\n",
       "      <th>136</th>\n",
       "      <th>137</th>\n",
       "      <th>138</th>\n",
       "      <th>139</th>\n",
       "      <th>140</th>\n",
       "    </tr>\n",
       "  </thead>\n",
       "  <tbody>\n",
       "    <tr>\n",
       "      <th>0</th>\n",
       "      <td>-0.112522</td>\n",
       "      <td>-2.827204</td>\n",
       "      <td>-3.773897</td>\n",
       "      <td>-4.349751</td>\n",
       "      <td>-4.376041</td>\n",
       "      <td>-3.474986</td>\n",
       "      <td>-2.181408</td>\n",
       "      <td>-1.818286</td>\n",
       "      <td>-1.250522</td>\n",
       "      <td>-0.477492</td>\n",
       "      <td>...</td>\n",
       "      <td>0.792168</td>\n",
       "      <td>0.933541</td>\n",
       "      <td>0.796958</td>\n",
       "      <td>0.578621</td>\n",
       "      <td>0.257740</td>\n",
       "      <td>0.228077</td>\n",
       "      <td>0.123431</td>\n",
       "      <td>0.925286</td>\n",
       "      <td>0.193137</td>\n",
       "      <td>1.0</td>\n",
       "    </tr>\n",
       "    <tr>\n",
       "      <th>1</th>\n",
       "      <td>-1.100878</td>\n",
       "      <td>-3.996840</td>\n",
       "      <td>-4.285843</td>\n",
       "      <td>-4.506579</td>\n",
       "      <td>-4.022377</td>\n",
       "      <td>-3.234368</td>\n",
       "      <td>-1.566126</td>\n",
       "      <td>-0.992258</td>\n",
       "      <td>-0.754680</td>\n",
       "      <td>0.042321</td>\n",
       "      <td>...</td>\n",
       "      <td>0.538356</td>\n",
       "      <td>0.656881</td>\n",
       "      <td>0.787490</td>\n",
       "      <td>0.724046</td>\n",
       "      <td>0.555784</td>\n",
       "      <td>0.476333</td>\n",
       "      <td>0.773820</td>\n",
       "      <td>1.119621</td>\n",
       "      <td>-1.436250</td>\n",
       "      <td>1.0</td>\n",
       "    </tr>\n",
       "    <tr>\n",
       "      <th>2</th>\n",
       "      <td>-0.567088</td>\n",
       "      <td>-2.593450</td>\n",
       "      <td>-3.874230</td>\n",
       "      <td>-4.584095</td>\n",
       "      <td>-4.187449</td>\n",
       "      <td>-3.151462</td>\n",
       "      <td>-1.742940</td>\n",
       "      <td>-1.490659</td>\n",
       "      <td>-1.183580</td>\n",
       "      <td>-0.394229</td>\n",
       "      <td>...</td>\n",
       "      <td>0.886073</td>\n",
       "      <td>0.531452</td>\n",
       "      <td>0.311377</td>\n",
       "      <td>-0.021919</td>\n",
       "      <td>-0.713683</td>\n",
       "      <td>-0.532197</td>\n",
       "      <td>0.321097</td>\n",
       "      <td>0.904227</td>\n",
       "      <td>-0.421797</td>\n",
       "      <td>1.0</td>\n",
       "    </tr>\n",
       "    <tr>\n",
       "      <th>3</th>\n",
       "      <td>0.490473</td>\n",
       "      <td>-1.914407</td>\n",
       "      <td>-3.616364</td>\n",
       "      <td>-4.318823</td>\n",
       "      <td>-4.268016</td>\n",
       "      <td>-3.881110</td>\n",
       "      <td>-2.993280</td>\n",
       "      <td>-1.671131</td>\n",
       "      <td>-1.333884</td>\n",
       "      <td>-0.965629</td>\n",
       "      <td>...</td>\n",
       "      <td>0.350816</td>\n",
       "      <td>0.499111</td>\n",
       "      <td>0.600345</td>\n",
       "      <td>0.842069</td>\n",
       "      <td>0.952074</td>\n",
       "      <td>0.990133</td>\n",
       "      <td>1.086798</td>\n",
       "      <td>1.403011</td>\n",
       "      <td>-0.383564</td>\n",
       "      <td>1.0</td>\n",
       "    </tr>\n",
       "    <tr>\n",
       "      <th>4</th>\n",
       "      <td>0.800232</td>\n",
       "      <td>-0.874252</td>\n",
       "      <td>-2.384761</td>\n",
       "      <td>-3.973292</td>\n",
       "      <td>-4.338224</td>\n",
       "      <td>-3.802422</td>\n",
       "      <td>-2.534510</td>\n",
       "      <td>-1.783423</td>\n",
       "      <td>-1.594450</td>\n",
       "      <td>-0.753199</td>\n",
       "      <td>...</td>\n",
       "      <td>1.148884</td>\n",
       "      <td>0.958434</td>\n",
       "      <td>1.059025</td>\n",
       "      <td>1.371682</td>\n",
       "      <td>1.277392</td>\n",
       "      <td>0.960304</td>\n",
       "      <td>0.971020</td>\n",
       "      <td>1.614392</td>\n",
       "      <td>1.421456</td>\n",
       "      <td>1.0</td>\n",
       "    </tr>\n",
       "  </tbody>\n",
       "</table>\n",
       "<p>5 rows × 141 columns</p>\n",
       "</div>"
      ],
      "text/plain": [
       "        0         1         2         3         4         5         6    \\\n",
       "0 -0.112522 -2.827204 -3.773897 -4.349751 -4.376041 -3.474986 -2.181408   \n",
       "1 -1.100878 -3.996840 -4.285843 -4.506579 -4.022377 -3.234368 -1.566126   \n",
       "2 -0.567088 -2.593450 -3.874230 -4.584095 -4.187449 -3.151462 -1.742940   \n",
       "3  0.490473 -1.914407 -3.616364 -4.318823 -4.268016 -3.881110 -2.993280   \n",
       "4  0.800232 -0.874252 -2.384761 -3.973292 -4.338224 -3.802422 -2.534510   \n",
       "\n",
       "        7         8         9    ...       131       132       133       134  \\\n",
       "0 -1.818286 -1.250522 -0.477492  ...  0.792168  0.933541  0.796958  0.578621   \n",
       "1 -0.992258 -0.754680  0.042321  ...  0.538356  0.656881  0.787490  0.724046   \n",
       "2 -1.490659 -1.183580 -0.394229  ...  0.886073  0.531452  0.311377 -0.021919   \n",
       "3 -1.671131 -1.333884 -0.965629  ...  0.350816  0.499111  0.600345  0.842069   \n",
       "4 -1.783423 -1.594450 -0.753199  ...  1.148884  0.958434  1.059025  1.371682   \n",
       "\n",
       "        135       136       137       138       139  140  \n",
       "0  0.257740  0.228077  0.123431  0.925286  0.193137  1.0  \n",
       "1  0.555784  0.476333  0.773820  1.119621 -1.436250  1.0  \n",
       "2 -0.713683 -0.532197  0.321097  0.904227 -0.421797  1.0  \n",
       "3  0.952074  0.990133  1.086798  1.403011 -0.383564  1.0  \n",
       "4  1.277392  0.960304  0.971020  1.614392  1.421456  1.0  \n",
       "\n",
       "[5 rows x 141 columns]"
      ]
     },
     "execution_count": 2,
     "metadata": {},
     "output_type": "execute_result"
    }
   ],
   "source": [
    "DATA_PATH = 'dataset/ecg.csv'\n",
    "data = pd.read_csv(DATA_PATH, header=None)\n",
    "data.head()"
   ]
  },
  {
   "cell_type": "code",
   "execution_count": 33,
   "metadata": {
    "colab": {
     "base_uri": "https://localhost:8080/"
    },
    "id": "LJuq76Hs4o4R",
    "outputId": "e4ec405e-f0e4-440b-8ffe-c18327e7d832"
   },
   "outputs": [
    {
     "data": {
      "text/plain": [
       "1.0    2919\n",
       "0.0    2079\n",
       "Name: 140, dtype: int64"
      ]
     },
     "execution_count": 33,
     "metadata": {},
     "output_type": "execute_result"
    }
   ],
   "source": [
    "pd.value_counts(data[140])"
   ]
  },
  {
   "cell_type": "markdown",
   "metadata": {
    "id": "jCIZnEev45oA"
   },
   "source": [
    "## **EDA**"
   ]
  },
  {
   "cell_type": "code",
   "execution_count": 34,
   "metadata": {
    "colab": {
     "base_uri": "https://localhost:8080/",
     "height": 513
    },
    "id": "bX6Otqzc48I0",
    "outputId": "73697f11-b927-439d-d819-c733ee4b2142"
   },
   "outputs": [
    {
     "data": {
      "image/png": "[encoded data removed]",
      "text/plain": [
       "<Figure size 1008x576 with 1 Axes>"
      ]
     },
     "metadata": {
      "needs_background": "light"
     },
     "output_type": "display_data"
    }
   ],
   "source": [
    "LABELS = [\"Normal\",\"Fraud\"]\n",
    "count_classes = pd.value_counts(data[140], sort = True)\n",
    "count_classes.plot(kind = 'bar', rot=0, figsize=(14, 8))\n",
    "plt.xticks(range(2), LABELS)\n",
    "plt.title(\"Frequency by observation number\")\n",
    "plt.xlabel(\"Class\")\n",
    "plt.ylabel(\"Number of Observations\");"
   ]
  },
  {
   "cell_type": "markdown",
   "metadata": {
    "id": "tIcc-7S-7Xwj"
   },
   "source": [
    "## **Train Test Split**"
   ]
  },
  {
   "cell_type": "code",
   "execution_count": 35,
   "metadata": {
    "id": "UnlX8m5ruDBe"
   },
   "outputs": [],
   "source": [
    "# last column is the target\n",
    "# 0 = anomaly, 1 = normal\n",
    "TARGET_COL = 140\n",
    "\n",
    "features = data.drop(TARGET_COL, axis=1)\n",
    "target = data[TARGET_COL]\n",
    "\n",
    "X_train, X_test, y_train, y_test = train_test_split(\n",
    "    features, target, test_size=0.3, stratify=target\n",
    ")"
   ]
  },
  {
   "cell_type": "markdown",
   "metadata": {
    "id": "nnD9tHS-samB"
   },
   "source": [
    "## **Baseline Result**\n",
    "\n",
    "**Cross validation in LGBM**"
   ]
  },
  {
   "cell_type": "code",
   "execution_count": 36,
   "metadata": {
    "colab": {
     "base_uri": "https://localhost:8080/"
    },
    "id": "hlRnFd0ypuKb",
    "outputId": "8429890f-f4b3-48ed-9845-d7f2a56b002d"
   },
   "outputs": [
    {
     "name": "stdout",
     "output_type": "stream",
     "text": [
      "[0.99022005 0.9939976  0.99408284 0.99012346 0.99491094]\n",
      "0.9926669772884017\n"
     ]
    }
   ],
   "source": [
    "NUM_FOLDS = 5\n",
    "RANDOM_STATE = 0\n",
    "\n",
    "lgbm_model = lgb.LGBMClassifier(boosting_type='goss')\n",
    "lgbm_pipeline = make_pipeline(MinMaxScaler(feature_range=(0, 1)), lgbm_model)\n",
    "\n",
    "kf = KFold(n_splits=NUM_FOLDS, random_state=RANDOM_STATE, shuffle=True)\n",
    "\n",
    "scores = cross_val_score(estimator=lgbm_pipeline, X=X_train, y=y_train, cv=kf, scoring=\"f1\", n_jobs=-1)\n",
    "print(scores)\n",
    "print(scores.mean())"
   ]
  },
  {
   "cell_type": "code",
   "execution_count": 37,
   "metadata": {
    "id": "2fRSC_eGrYSB"
   },
   "outputs": [],
   "source": [
    "# min max scale the input data\n",
    "min_max_scaler = MinMaxScaler(feature_range=(0, 1))\n",
    "X_train_scaled = min_max_scaler.fit_transform(X_train.copy())\n",
    "X_test_scaled = min_max_scaler.transform(X_test.copy())"
   ]
  },
  {
   "cell_type": "code",
   "execution_count": 38,
   "metadata": {
    "colab": {
     "base_uri": "https://localhost:8080/"
    },
    "id": "9r79G9IV33Ix",
    "outputId": "66357a9f-2a1b-4320-b64c-16e1f6987487"
   },
   "outputs": [
    {
     "name": "stdout",
     "output_type": "stream",
     "text": [
      "(3498, 140)\n",
      "(1500, 140)\n"
     ]
    }
   ],
   "source": [
    "print(X_train_scaled.shape)\n",
    "print(X_test_scaled.shape)"
   ]
  },
  {
   "cell_type": "code",
   "execution_count": 39,
   "metadata": {
    "id": "r1Hj_HRpsTdL"
   },
   "outputs": [],
   "source": [
    "lgbm_model = lgb.LGBMClassifier(boosting_type='goss')\n",
    "lgbm_model.fit(X=X_train_scaled, y=y_train)\n",
    "lgbm_preds = lgbm_model.predict(X_test_scaled)"
   ]
  },
  {
   "cell_type": "code",
   "execution_count": 40,
   "metadata": {
    "colab": {
     "base_uri": "https://localhost:8080/",
     "height": 438
    },
    "id": "_nWfMzzlXUxs",
    "outputId": "fb00d566-9c13-4ce9-e911-2de8036fb759"
   },
   "outputs": [
    {
     "name": "stdout",
     "output_type": "stream",
     "text": [
      "0.9920091324200914\n"
     ]
    },
    {
     "data": {
      "image/png": "[encoded data removed]",
      "text/plain": [
       "<Figure size 600x450 with 2 Axes>"
      ]
     },
     "metadata": {
      "needs_background": "light"
     },
     "output_type": "display_data"
    }
   ],
   "source": [
    "# Show summary of performance\n",
    "print(f1_score(lgbm_preds, y_test))\n",
    "cf_matrix = confusion_matrix(y_test, lgbm_preds)\n",
    "\n",
    "plt.figure(dpi=150, figsize=(4, 3))\n",
    "sns.heatmap(cf_matrix, annot=True, fmt='g')\n",
    "plt.show()"
   ]
  },
  {
   "cell_type": "markdown",
   "metadata": {
    "id": "jtT5TlEB3DTu"
   },
   "source": [
    "## AutoEncoder"
   ]
  },
  {
   "cell_type": "code",
   "execution_count": 41,
   "metadata": {
    "id": "zbx4NtuF2MfI"
   },
   "outputs": [],
   "source": [
    "# create a model by subclassing Model class in tensorflow\n",
    "class AutoEncoder(Model):\n",
    "    \"\"\"\n",
    "    Parameters\n",
    "    ----------\n",
    "    output_units: int\n",
    "    Number of output units\n",
    "\n",
    "    code_size: int\n",
    "    Number of units in bottle neck\n",
    "    \"\"\"\n",
    "\n",
    "    def __init__(self, output_units, code_size=8):\n",
    "        super().__init__()\n",
    "\n",
    "        self.encoder = Sequential([\n",
    "          Dense(64, activation='relu'),\n",
    "          Dropout(0.1),\n",
    "          Dense(32, activation='relu'),\n",
    "          Dropout(0.1),\n",
    "          Dense(16, activation='relu'),\n",
    "          Dropout(0.1),\n",
    "          Dense(code_size, activation='relu')\n",
    "        ])\n",
    "\n",
    "        self.decoder = Sequential([\n",
    "          Dense(16, activation='relu'),\n",
    "          Dropout(0.1),\n",
    "          Dense(32, activation='relu'),\n",
    "          Dropout(0.1),\n",
    "          Dense(64, activation='relu'),\n",
    "          Dropout(0.1),\n",
    "          Dense(output_units, activation='sigmoid')\n",
    "        ])\n",
    "\n",
    "    def call(self, inputs):\n",
    "        encoded = self.encoder(inputs)\n",
    "        decoded = self.decoder(encoded)\n",
    "        return decoded\n",
    "\n",
    "def create_model(output_size):\n",
    "\n",
    "    model = AutoEncoder(output_units=output_size)\n",
    "    # configurations of model\n",
    "    model.compile(loss=\"msle\", metrics=['mse'], optimizer='adam')\n",
    "\n",
    "    return model\n",
    "\n",
    "def find_threshold(model, X_valid):\n",
    "    \n",
    "    reconstructions = model.predict(X_valid)\n",
    "    # provides losses of individual instances\n",
    "    reconstruction_errors = tf.keras.losses.msle(reconstructions, X_valid)\n",
    "    # threshold for anomaly scores\n",
    "    threshold = np.mean(reconstruction_errors.numpy()) + np.std(reconstruction_errors.numpy())\n",
    "\n",
    "    return threshold\n",
    "\n",
    "def get_predictions(model, X_test_scaled, threshold):\n",
    "    \n",
    "    predictions = model.predict(X_test_scaled)\n",
    "    # provides losses of individual instances\n",
    "    errors = tf.keras.losses.msle(predictions, X_test_scaled)\n",
    "    # 0 = anomaly, 1 = normal\n",
    "    anomaly_mask = pd.Series(errors) > threshold\n",
    "    preds = anomaly_mask.map(lambda x: 0.0 if x == True else 1.0)\n",
    "    \n",
    "    return preds"
   ]
  },
  {
   "cell_type": "code",
   "execution_count": 42,
   "metadata": {
    "id": "tsEzzBP2vOtw"
   },
   "outputs": [],
   "source": [
    "# use case is novelty detection so use only the normal data\n",
    "# for training\n",
    "train_index = y_train[y_train == 1].index\n",
    "train_data = X_train.loc[train_index]"
   ]
  },
  {
   "cell_type": "code",
   "execution_count": 43,
   "metadata": {
    "colab": {
     "base_uri": "https://localhost:8080/",
     "height": 1000
    },
    "id": "ZL1VgFH1wU3z",
    "outputId": "217dccd8-83f8-4df2-ddf8-296e081f010c"
   },
   "outputs": [
    {
     "name": "stdout",
     "output_type": "stream",
     "text": [
      "------------------------------------------------------------------------\n",
      "Training for fold 1 ...\n"
     ]
    },
    {
     "data": {
      "image/png": "[encoded data removed]",
      "text/plain": [
       "<Figure size 432x288 with 1 Axes>"
      ]
     },
     "metadata": {
      "needs_background": "light"
     },
     "output_type": "display_data"
    },
    {
     "name": "stdout",
     "output_type": "stream",
     "text": [
      "Threshold in 1: 0.015300118966479474\n",
      "------------------------------------------------------------------------\n",
      "Training for fold 2 ...\n"
     ]
    },
    {
     "data": {
      "image/png": "[encoded data removed]",
      "text/plain": [
       "<Figure size 432x288 with 1 Axes>"
      ]
     },
     "metadata": {
      "needs_background": "light"
     },
     "output_type": "display_data"
    },
    {
     "name": "stdout",
     "output_type": "stream",
     "text": [
      "Threshold in 2: 0.013582586838041102\n",
      "------------------------------------------------------------------------\n",
      "Training for fold 3 ...\n"
     ]
    },
    {
     "data": {
      "image/png": "[encoded data removed]",
      "text/plain": [
       "<Figure size 432x288 with 1 Axes>"
      ]
     },
     "metadata": {
      "needs_background": "light"
     },
     "output_type": "display_data"
    },
    {
     "name": "stdout",
     "output_type": "stream",
     "text": [
      "Threshold in 3: 0.014777977973547664\n",
      "------------------------------------------------------------------------\n",
      "Training for fold 4 ...\n"
     ]
    },
    {
     "data": {
      "image/png": "[encoded data removed]",
      "text/plain": [
       "<Figure size 432x288 with 1 Axes>"
      ]
     },
     "metadata": {
      "needs_background": "light"
     },
     "output_type": "display_data"
    },
    {
     "name": "stdout",
     "output_type": "stream",
     "text": [
      "Threshold in 4: 0.011910105380188801\n",
      "------------------------------------------------------------------------\n",
      "Training for fold 5 ...\n"
     ]
    },
    {
     "data": {
      "image/png": "[encoded data removed]",
      "text/plain": [
       "<Figure size 432x288 with 1 Axes>"
      ]
     },
     "metadata": {
      "needs_background": "light"
     },
     "output_type": "display_data"
    },
    {
     "name": "stdout",
     "output_type": "stream",
     "text": [
      "Threshold in 5: 0.015114266545264949\n"
     ]
    }
   ],
   "source": [
    "NUM_FOLDS = 5\n",
    "RANDOM_STATE = 0\n",
    "\n",
    "thresholds = list()\n",
    "output_size = train_data.shape[1]\n",
    "min_max_scaler = MinMaxScaler(feature_range=(0, 1))\n",
    "\n",
    "# Define the K-fold Cross Validator\n",
    "kf = KFold(n_splits=NUM_FOLDS, random_state=RANDOM_STATE, shuffle=True)\n",
    "\n",
    "# K-fold Cross Validation model evaluation\n",
    "for fold_no, (train, valid) in enumerate(kf.split(train_data)):\n",
    "\n",
    "    # min max scale the input data\n",
    "    X_train_scaled = min_max_scaler.fit_transform(train_data.iloc[train])\n",
    "    X_valid_scaled = min_max_scaler.fit_transform(train_data.iloc[valid])\n",
    "\n",
    "    model = create_model(output_size)\n",
    "\n",
    "    # Generate a print\n",
    "    print('------------------------------------------------------------------------')\n",
    "    print(f'Training for fold {fold_no+1} ...')\n",
    "\n",
    "    # Fit data to model  \n",
    "    history = model.fit(X_train_scaled,\n",
    "                      X_train_scaled,\n",
    "                      epochs=100,\n",
    "                      batch_size=512,\n",
    "                      verbose=0,\n",
    "                      validation_data=(X_valid_scaled, X_valid_scaled))\n",
    "\n",
    "    plt.plot(history.history['loss'])\n",
    "    plt.plot(history.history['val_loss'])\n",
    "    plt.xlabel('Epochs')\n",
    "    plt.ylabel('MSLE Loss')\n",
    "    plt.legend(['loss', 'val_loss'])\n",
    "    plt.show()\n",
    "\n",
    "    threshold = find_threshold(model, X_valid_scaled)\n",
    "    thresholds.append(threshold)\n",
    "    print(f'Threshold in {fold_no+1}: {threshold}')\n"
   ]
  },
  {
   "cell_type": "code",
   "execution_count": 44,
   "metadata": {
    "colab": {
     "base_uri": "https://localhost:8080/"
    },
    "id": "Lt1JjVaEuq9i",
    "outputId": "5a9f80af-0e8a-4975-8717-2d715a1e8657"
   },
   "outputs": [
    {
     "name": "stdout",
     "output_type": "stream",
     "text": [
      "[0.015300118966479474, 0.013582586838041102, 0.014777977973547664, 0.011910105380188801, 0.015114266545264949]\n",
      "0.014137011140704397\n"
     ]
    }
   ],
   "source": [
    "print(thresholds)\n",
    "mean_threshold = sum(thresholds)/len(thresholds)\n",
    "print(mean_threshold)"
   ]
  },
  {
   "cell_type": "code",
   "execution_count": 45,
   "metadata": {
    "id": "zgLvMXsAtTMP"
   },
   "outputs": [],
   "source": [
    "# use case is novelty detection so use only the normal data\n",
    "# for training\n",
    "train_index = y_train[y_train == 1].index\n",
    "train_data = X_train.loc[train_index]\n",
    "\n",
    "# min max scale the input data\n",
    "X_train_scaled = min_max_scaler.fit_transform(train_data.copy())\n",
    "X_test_scaled = min_max_scaler.transform(X_test.copy())"
   ]
  },
  {
   "cell_type": "code",
   "execution_count": 46,
   "metadata": {
    "colab": {
     "base_uri": "https://localhost:8080/",
     "height": 438
    },
    "id": "lOZYvsOWzQE-",
    "outputId": "95c852a2-768d-43e3-cc36-52ae03f8108c"
   },
   "outputs": [
    {
     "name": "stdout",
     "output_type": "stream",
     "text": [
      "0.947888096544158\n"
     ]
    },
    {
     "data": {
      "image/png": "[encoded data removed]",
      "text/plain": [
       "<Figure size 600x450 with 2 Axes>"
      ]
     },
     "metadata": {
      "needs_background": "light"
     },
     "output_type": "display_data"
    }
   ],
   "source": [
    "autoencoder_model = create_model(output_size)\n",
    "# Fit data to model  \n",
    "history = autoencoder_model.fit(X_train_scaled,\n",
    "                    X_train_scaled,\n",
    "                    epochs=100,\n",
    "                    batch_size=512,\n",
    "                    verbose=0)\n",
    "\n",
    "autoencoder_predictions = get_predictions(autoencoder_model, X_test_scaled, mean_threshold)\n",
    "# Show summary of performance\n",
    "print(f1_score(autoencoder_predictions, y_test))\n",
    "cf_matrix = confusion_matrix(y_test, autoencoder_predictions)\n",
    "\n",
    "plt.figure(dpi=150, figsize=(4, 3))\n",
    "sns.heatmap(cf_matrix, annot=True, fmt='g')\n",
    "plt.show()"
   ]
  },
  {
   "cell_type": "markdown",
   "metadata": {
    "id": "RmujzwDT35He"
   },
   "source": [
    "---\n",
    "\n",
    "### **Reference:**\n",
    "\n",
    "https://www.analyticsvidhya.com/blog/2021/05/anomaly-detection-using-autoencoders-a-walk-through-in-python/"
   ]
  }
 ],
 "metadata": {
  "colab": {
   "collapsed_sections": [],
   "name": "anomaly-detection-with-autoencoder-with-cross-validation.ipynb",
   "provenance": []
  },
  "kernelspec": {
   "display_name": "Python 3",
   "language": "python",
   "name": "python3"
  },
  "language_info": {
   "codemirror_mode": {
    "name": "ipython",
    "version": 3
   },
   "file_extension": ".py",
   "mimetype": "text/x-python",
   "name": "python",
   "nbconvert_exporter": "python",
   "pygments_lexer": "ipython3",
   "version": "3.7.6"
  }
 },
 "nbformat": 4,
 "nbformat_minor": 1
}
